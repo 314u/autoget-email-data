{
 "cells": [
  {
   "cell_type": "code",
   "execution_count": 115,
   "metadata": {},
   "outputs": [],
   "source": [
    "import numpy as np\n",
    "import pandas as pd\n",
    "from unidecode import unidecode"
   ]
  },
  {
   "cell_type": "code",
   "execution_count": 116,
   "metadata": {},
   "outputs": [
    {
     "data": {
      "text/html": [
       "<div>\n",
       "<style scoped>\n",
       "    .dataframe tbody tr th:only-of-type {\n",
       "        vertical-align: middle;\n",
       "    }\n",
       "\n",
       "    .dataframe tbody tr th {\n",
       "        vertical-align: top;\n",
       "    }\n",
       "\n",
       "    .dataframe thead th {\n",
       "        text-align: right;\n",
       "    }\n",
       "</style>\n",
       "<table border=\"1\" class=\"dataframe\">\n",
       "  <thead>\n",
       "    <tr style=\"text-align: right;\">\n",
       "      <th></th>\n",
       "      <th>Nome Completo</th>\n",
       "      <th>Nome</th>\n",
       "      <th>Sobrenome</th>\n",
       "      <th>UO</th>\n",
       "      <th>Matrícula</th>\n",
       "      <th>Lotação</th>\n",
       "      <th>Cargo</th>\n",
       "      <th>Email zimbra</th>\n",
       "      <th>Email Workspace</th>\n",
       "      <th>Alias Workspace</th>\n",
       "      <th>Migrar?</th>\n",
       "      <th>Descrição do Chamado</th>\n",
       "      <th>Chamado</th>\n",
       "      <th>Efetivado?</th>\n",
       "      <th>Observações</th>\n",
       "    </tr>\n",
       "  </thead>\n",
       "  <tbody>\n",
       "    <tr>\n",
       "      <th>0</th>\n",
       "      <td>LUDMILLA SILVA ALMEIDA</td>\n",
       "      <td>LUDMILLA</td>\n",
       "      <td>SILVA ALMEIDA</td>\n",
       "      <td>GABINETE DOS DESEMBARGADORES</td>\n",
       "      <td>352096</td>\n",
       "      <td>GABINETE DES. EURÍPEDES LAMOUNIER</td>\n",
       "      <td>ASSESSOR JURÍDICO DE DESEMBARGADOR  DAJ/9</td>\n",
       "      <td></td>\n",
       "      <td>ludmilla.almeida@tjto.jus.br</td>\n",
       "      <td></td>\n",
       "      <td>Não</td>\n",
       "      <td>Criação de email</td>\n",
       "      <td>R54341</td>\n",
       "      <td>Não</td>\n",
       "      <td></td>\n",
       "    </tr>\n",
       "    <tr>\n",
       "      <th>1</th>\n",
       "      <td>LUDMILLA SILVA ALMEIDA</td>\n",
       "      <td>LUDMILLA</td>\n",
       "      <td>SILVA ALMEIDA</td>\n",
       "      <td>GABINETE DOS DESEMBARGADORES</td>\n",
       "      <td>352096</td>\n",
       "      <td>GABINETE DES. EURÍPEDES LAMOUNIER</td>\n",
       "      <td>ASSESSOR JURÍDICO DE DESEMBARGADOR  DAJ/9</td>\n",
       "      <td></td>\n",
       "      <td>ludmilla.almeida@tjto.jus.br</td>\n",
       "      <td></td>\n",
       "      <td>Não</td>\n",
       "      <td>Criação de email</td>\n",
       "      <td>R54341</td>\n",
       "      <td>Não</td>\n",
       "      <td></td>\n",
       "    </tr>\n",
       "  </tbody>\n",
       "</table>\n",
       "</div>"
      ],
      "text/plain": [
       "            Nome Completo      Nome      Sobrenome  \\\n",
       "0  LUDMILLA SILVA ALMEIDA  LUDMILLA  SILVA ALMEIDA   \n",
       "1  LUDMILLA SILVA ALMEIDA  LUDMILLA  SILVA ALMEIDA   \n",
       "\n",
       "                               UO  Matrícula  \\\n",
       "0   GABINETE DOS DESEMBARGADORES      352096   \n",
       "1   GABINETE DOS DESEMBARGADORES      352096   \n",
       "\n",
       "                              Lotação  \\\n",
       "0   GABINETE DES. EURÍPEDES LAMOUNIER   \n",
       "1   GABINETE DES. EURÍPEDES LAMOUNIER   \n",
       "\n",
       "                                       Cargo Email zimbra  \\\n",
       "0  ASSESSOR JURÍDICO DE DESEMBARGADOR  DAJ/9                \n",
       "1  ASSESSOR JURÍDICO DE DESEMBARGADOR  DAJ/9                \n",
       "\n",
       "                Email Workspace Alias Workspace Migrar? Descrição do Chamado  \\\n",
       "0  ludmilla.almeida@tjto.jus.br                     Não     Criação de email   \n",
       "1  ludmilla.almeida@tjto.jus.br                     Não     Criação de email   \n",
       "\n",
       "  Chamado Efetivado? Observações  \n",
       "0  R54341        Não              \n",
       "1  R54341        Não              "
      ]
     },
     "execution_count": 116,
     "metadata": {},
     "output_type": "execute_result"
    }
   ],
   "source": [
    "userdataoriginal = pd.read_excel('userdata.xlsx')\n",
    "chamadosregistro = pd.read_excel('chamados.xlsx')\n",
    "emzimbra = pd.read_excel('emailszimbra.xlsx')\n",
    "userdata = userdataoriginal\n",
    "userdata=userdata.fillna(' ')\n",
    "chamadosregistro.head(2)"
   ]
  },
  {
   "cell_type": "code",
   "execution_count": 117,
   "metadata": {},
   "outputs": [
    {
     "data": {
      "text/html": [
       "<div>\n",
       "<style scoped>\n",
       "    .dataframe tbody tr th:only-of-type {\n",
       "        vertical-align: middle;\n",
       "    }\n",
       "\n",
       "    .dataframe tbody tr th {\n",
       "        vertical-align: top;\n",
       "    }\n",
       "\n",
       "    .dataframe thead th {\n",
       "        text-align: right;\n",
       "    }\n",
       "</style>\n",
       "<table border=\"1\" class=\"dataframe\">\n",
       "  <thead>\n",
       "    <tr style=\"text-align: right;\">\n",
       "      <th></th>\n",
       "      <th>matricula</th>\n",
       "      <th>nome</th>\n",
       "      <th>cargo</th>\n",
       "      <th>funcao</th>\n",
       "      <th>lotacao</th>\n",
       "      <th>situacao</th>\n",
       "    </tr>\n",
       "  </thead>\n",
       "  <tbody>\n",
       "    <tr>\n",
       "      <th>0</th>\n",
       "      <td>98333</td>\n",
       "      <td>ABDORAL MARTINS FILHO</td>\n",
       "      <td>OFICIAL DE JUSTIÇA AVALIADOR</td>\n",
       "      <td></td>\n",
       "      <td>1º GRAU - 1ª INSTÂNCIA - 2ª ENTRÂNCIA - COMARC...</td>\n",
       "      <td>ESTATUTÁRIO</td>\n",
       "    </tr>\n",
       "  </tbody>\n",
       "</table>\n",
       "</div>"
      ],
      "text/plain": [
       "   matricula                   nome                         cargo funcao  \\\n",
       "0      98333  ABDORAL MARTINS FILHO  OFICIAL DE JUSTIÇA AVALIADOR          \n",
       "\n",
       "                                             lotacao     situacao  \n",
       "0  1º GRAU - 1ª INSTÂNCIA - 2ª ENTRÂNCIA - COMARC...  ESTATUTÁRIO  "
      ]
     },
     "execution_count": 117,
     "metadata": {},
     "output_type": "execute_result"
    }
   ],
   "source": [
    "userdata.head(1)"
   ]
  },
  {
   "cell_type": "code",
   "execution_count": 118,
   "metadata": {},
   "outputs": [
    {
     "data": {
      "text/html": [
       "<div>\n",
       "<style scoped>\n",
       "    .dataframe tbody tr th:only-of-type {\n",
       "        vertical-align: middle;\n",
       "    }\n",
       "\n",
       "    .dataframe tbody tr th {\n",
       "        vertical-align: top;\n",
       "    }\n",
       "\n",
       "    .dataframe thead th {\n",
       "        text-align: right;\n",
       "    }\n",
       "</style>\n",
       "<table border=\"1\" class=\"dataframe\">\n",
       "  <thead>\n",
       "    <tr style=\"text-align: right;\">\n",
       "      <th></th>\n",
       "      <th>Email Zimbra</th>\n",
       "      <th>Status</th>\n",
       "      <th>Criação</th>\n",
       "      <th>Último logon</th>\n",
       "      <th>Descrição</th>\n",
       "      <th>Email</th>\n",
       "      <th>Alias1</th>\n",
       "      <th>Alias2</th>\n",
       "      <th>Alias3</th>\n",
       "      <th>Alias4</th>\n",
       "    </tr>\n",
       "  </thead>\n",
       "  <tbody>\n",
       "    <tr>\n",
       "      <th>0</th>\n",
       "      <td>1acamaracivelvideo@tjto.jus.br</td>\n",
       "      <td>active</td>\n",
       "      <td>2020-10-07 00:00:00</td>\n",
       "      <td>20220802163301.</td>\n",
       "      <td>1a camara civel</td>\n",
       "      <td>1acamaracivelvideo@tjto.jus.br</td>\n",
       "      <td>NaN</td>\n",
       "      <td>NaN</td>\n",
       "      <td>NaN</td>\n",
       "      <td>NaN</td>\n",
       "    </tr>\n",
       "    <tr>\n",
       "      <th>1</th>\n",
       "      <td>1acamaracriminal@tjto.jus.br</td>\n",
       "      <td>active</td>\n",
       "      <td>06/17/20</td>\n",
       "      <td>20220801162946.</td>\n",
       "      <td>1a camara criminal .</td>\n",
       "      <td>1acamaracriminal@tjto.jus.br</td>\n",
       "      <td>NaN</td>\n",
       "      <td>NaN</td>\n",
       "      <td>NaN</td>\n",
       "      <td>NaN</td>\n",
       "    </tr>\n",
       "  </tbody>\n",
       "</table>\n",
       "</div>"
      ],
      "text/plain": [
       "                     Email Zimbra  Status              Criação  \\\n",
       "0  1acamaracivelvideo@tjto.jus.br  active  2020-10-07 00:00:00   \n",
       "1    1acamaracriminal@tjto.jus.br  active             06/17/20   \n",
       "\n",
       "      Último logon             Descrição                           Email  \\\n",
       "0  20220802163301.       1a camara civel  1acamaracivelvideo@tjto.jus.br   \n",
       "1  20220801162946.  1a camara criminal .    1acamaracriminal@tjto.jus.br   \n",
       "\n",
       "  Alias1 Alias2 Alias3 Alias4  \n",
       "0    NaN    NaN    NaN    NaN  \n",
       "1    NaN    NaN    NaN    NaN  "
      ]
     },
     "execution_count": 118,
     "metadata": {},
     "output_type": "execute_result"
    }
   ],
   "source": [
    "emzimbra.head(2)"
   ]
  },
  {
   "cell_type": "code",
   "execution_count": 119,
   "metadata": {},
   "outputs": [],
   "source": [
    "ncham = 'R54341'\n",
    "migrar = 'Não'\n",
    "descham = 'Criação de email'\n",
    "matricula = 352096\n",
    "efetivado = 'Não'\n",
    "observacoes = ' '"
   ]
  },
  {
   "cell_type": "code",
   "execution_count": 120,
   "metadata": {},
   "outputs": [
    {
     "data": {
      "text/html": [
       "<div>\n",
       "<style scoped>\n",
       "    .dataframe tbody tr th:only-of-type {\n",
       "        vertical-align: middle;\n",
       "    }\n",
       "\n",
       "    .dataframe tbody tr th {\n",
       "        vertical-align: top;\n",
       "    }\n",
       "\n",
       "    .dataframe thead th {\n",
       "        text-align: right;\n",
       "    }\n",
       "</style>\n",
       "<table border=\"1\" class=\"dataframe\">\n",
       "  <thead>\n",
       "    <tr style=\"text-align: right;\">\n",
       "      <th></th>\n",
       "      <th>matricula</th>\n",
       "      <th>nome</th>\n",
       "      <th>cargo</th>\n",
       "      <th>funcao</th>\n",
       "      <th>lotacao</th>\n",
       "      <th>situacao</th>\n",
       "    </tr>\n",
       "  </thead>\n",
       "  <tbody>\n",
       "    <tr>\n",
       "      <th>0</th>\n",
       "      <td>352096</td>\n",
       "      <td>LUDMILLA SILVA ALMEIDA</td>\n",
       "      <td></td>\n",
       "      <td>ASSESSOR JURÍDICO DE DESEMBARGADOR  DAJ/9</td>\n",
       "      <td>2º GRAU - GABINETE DOS DESEMBARGADORES - GABIN...</td>\n",
       "      <td>NOMEADO EM COMISSÃO</td>\n",
       "    </tr>\n",
       "  </tbody>\n",
       "</table>\n",
       "</div>"
      ],
      "text/plain": [
       "   matricula                    nome cargo  \\\n",
       "0     352096  LUDMILLA SILVA ALMEIDA         \n",
       "\n",
       "                                      funcao  \\\n",
       "0  ASSESSOR JURÍDICO DE DESEMBARGADOR  DAJ/9   \n",
       "\n",
       "                                             lotacao             situacao  \n",
       "0  2º GRAU - GABINETE DOS DESEMBARGADORES - GABIN...  NOMEADO EM COMISSÃO  "
      ]
     },
     "execution_count": 120,
     "metadata": {},
     "output_type": "execute_result"
    }
   ],
   "source": [
    "\n",
    "res = userdata[userdata['matricula']==matricula]\n",
    "res = res.reset_index()\n",
    "res = res.drop(['index'],axis=1)\n",
    "res\n"
   ]
  },
  {
   "cell_type": "code",
   "execution_count": 121,
   "metadata": {},
   "outputs": [
    {
     "data": {
      "text/plain": [
       "'SILVA ALMEIDA'"
      ]
     },
     "execution_count": 121,
     "metadata": {},
     "output_type": "execute_result"
    }
   ],
   "source": [
    "nome = res['nome'][0]\n",
    "nome = nome.split()\n",
    "sobrenome = nome[1:]\n",
    "sobrenome =  ' '.join(nome[1:])\n",
    "sobrenome"
   ]
  },
  {
   "cell_type": "code",
   "execution_count": 122,
   "metadata": {},
   "outputs": [
    {
     "data": {
      "text/plain": [
       "'ludmilla.almeida@tjto.jus.br'"
      ]
     },
     "execution_count": 122,
     "metadata": {},
     "output_type": "execute_result"
    }
   ],
   "source": [
    "empdr = nome[0]+'.'+nome[-1]+'@tjto.jus.br'\n",
    "empdr = empdr.lower()\n",
    "empdr = unidecode(empdr)\n",
    "empdr"
   ]
  },
  {
   "cell_type": "code",
   "execution_count": 123,
   "metadata": {},
   "outputs": [
    {
     "data": {
      "text/plain": [
       "' GABINETE DOS DESEMBARGADORES '"
      ]
     },
     "execution_count": 123,
     "metadata": {},
     "output_type": "execute_result"
    }
   ],
   "source": [
    "lotacao = res['lotacao'][0]\n",
    "lotacao = lotacao.split('-')\n",
    "lotacao[-1]\n",
    "lotacao[-2]"
   ]
  },
  {
   "cell_type": "code",
   "execution_count": 124,
   "metadata": {},
   "outputs": [
    {
     "data": {
      "text/plain": [
       "'ASSESSOR JURÍDICO DE DESEMBARGADOR  DAJ/9'"
      ]
     },
     "execution_count": 124,
     "metadata": {},
     "output_type": "execute_result"
    }
   ],
   "source": [
    "cargo = ' '\n",
    "funcao = ' '\n",
    "if res['cargo'][0]!=' ': cargo =  res['cargo'][0]\n",
    "if res['funcao'][0]!=' ': funcao = res['funcao'][0]\n",
    "if cargo==' ' : \n",
    "    cargo = funcao\n",
    "    funcao = ' '\n",
    "if(cargo!=' ' and funcao!=' '): cargo = cargo+'-'+funcao\n",
    "cargo\n"
   ]
  },
  {
   "cell_type": "code",
   "execution_count": 125,
   "metadata": {},
   "outputs": [
    {
     "data": {
      "text/plain": [
       "' '"
      ]
     },
     "execution_count": 125,
     "metadata": {},
     "output_type": "execute_result"
    }
   ],
   "source": [
    "emzimbrares = ' '\n",
    "desc = emzimbra['Descrição']\n",
    "for i in range(len(desc)):\n",
    "    if type(desc[i])==str:\n",
    "        if res['nome'][0].lower() in desc[i].lower():\n",
    "            emzimbrares = emzimbra.iloc[i]\n",
    "emzimbrares"
   ]
  },
  {
   "cell_type": "code",
   "execution_count": 126,
   "metadata": {},
   "outputs": [
    {
     "data": {
      "text/html": [
       "<div>\n",
       "<style scoped>\n",
       "    .dataframe tbody tr th:only-of-type {\n",
       "        vertical-align: middle;\n",
       "    }\n",
       "\n",
       "    .dataframe tbody tr th {\n",
       "        vertical-align: top;\n",
       "    }\n",
       "\n",
       "    .dataframe thead th {\n",
       "        text-align: right;\n",
       "    }\n",
       "</style>\n",
       "<table border=\"1\" class=\"dataframe\">\n",
       "  <thead>\n",
       "    <tr style=\"text-align: right;\">\n",
       "      <th></th>\n",
       "      <th>Nome Completo</th>\n",
       "      <th>Nome</th>\n",
       "      <th>Sobrenome</th>\n",
       "      <th>UO</th>\n",
       "      <th>Matrícula</th>\n",
       "      <th>Lotação</th>\n",
       "      <th>Cargo</th>\n",
       "      <th>Email zimbra</th>\n",
       "      <th>Email Workspace</th>\n",
       "      <th>Alias Workspace</th>\n",
       "      <th>Migrar?</th>\n",
       "      <th>Descrição do Chamado</th>\n",
       "      <th>Chamado</th>\n",
       "      <th>Efetivado?</th>\n",
       "      <th>Observações</th>\n",
       "    </tr>\n",
       "  </thead>\n",
       "  <tbody>\n",
       "    <tr>\n",
       "      <th>0</th>\n",
       "      <td>LUDMILLA SILVA ALMEIDA</td>\n",
       "      <td>LUDMILLA</td>\n",
       "      <td>SILVA ALMEIDA</td>\n",
       "      <td>GABINETE DOS DESEMBARGADORES</td>\n",
       "      <td>352096</td>\n",
       "      <td>GABINETE DES. EURÍPEDES LAMOUNIER</td>\n",
       "      <td>ASSESSOR JURÍDICO DE DESEMBARGADOR  DAJ/9</td>\n",
       "      <td></td>\n",
       "      <td>ludmilla.almeida@tjto.jus.br</td>\n",
       "      <td></td>\n",
       "      <td>Não</td>\n",
       "      <td>Criação de email</td>\n",
       "      <td>R54341</td>\n",
       "      <td>Não</td>\n",
       "      <td></td>\n",
       "    </tr>\n",
       "  </tbody>\n",
       "</table>\n",
       "</div>"
      ],
      "text/plain": [
       "            Nome Completo      Nome      Sobrenome  \\\n",
       "0  LUDMILLA SILVA ALMEIDA  LUDMILLA  SILVA ALMEIDA   \n",
       "\n",
       "                               UO  Matrícula  \\\n",
       "0   GABINETE DOS DESEMBARGADORES      352096   \n",
       "\n",
       "                              Lotação  \\\n",
       "0   GABINETE DES. EURÍPEDES LAMOUNIER   \n",
       "\n",
       "                                       Cargo Email zimbra  \\\n",
       "0  ASSESSOR JURÍDICO DE DESEMBARGADOR  DAJ/9                \n",
       "\n",
       "                Email Workspace Alias Workspace Migrar? Descrição do Chamado  \\\n",
       "0  ludmilla.almeida@tjto.jus.br                     Não     Criação de email   \n",
       "\n",
       "  Chamado Efetivado? Observações  \n",
       "0  R54341        Não              "
      ]
     },
     "execution_count": 126,
     "metadata": {},
     "output_type": "execute_result"
    }
   ],
   "source": [
    "ln = {\n",
    "    'Nome Completo':res['nome'],\n",
    "    'Nome':nome[0],\n",
    "    'Sobrenome':sobrenome,\n",
    "    'UO':lotacao[-2],\n",
    "    'Matrícula':res['matricula'],\n",
    "    'Lotação':lotacao[-1],\n",
    "    'Cargo':cargo,\n",
    "    'Email zimbra':emzimbrares[0],\n",
    "    'Email Workspace':empdr,\n",
    "    'Alias Workspace':emzimbrares[0],\n",
    "    'Migrar?':migrar,\n",
    "    'Descrição do Chamado':descham,\n",
    "    'Chamado':ncham,\n",
    "    'Efetivado?':efetivado,\n",
    "    'Observações':observacoes}\n",
    "ln = pd.DataFrame(ln)\n",
    "ln\n"
   ]
  },
  {
   "cell_type": "code",
   "execution_count": 127,
   "metadata": {},
   "outputs": [
    {
     "data": {
      "text/html": [
       "<div>\n",
       "<style scoped>\n",
       "    .dataframe tbody tr th:only-of-type {\n",
       "        vertical-align: middle;\n",
       "    }\n",
       "\n",
       "    .dataframe tbody tr th {\n",
       "        vertical-align: top;\n",
       "    }\n",
       "\n",
       "    .dataframe thead th {\n",
       "        text-align: right;\n",
       "    }\n",
       "</style>\n",
       "<table border=\"1\" class=\"dataframe\">\n",
       "  <thead>\n",
       "    <tr style=\"text-align: right;\">\n",
       "      <th></th>\n",
       "      <th>Nome Completo</th>\n",
       "      <th>Nome</th>\n",
       "      <th>Sobrenome</th>\n",
       "      <th>UO</th>\n",
       "      <th>Matrícula</th>\n",
       "      <th>Lotação</th>\n",
       "      <th>Cargo</th>\n",
       "      <th>Email zimbra</th>\n",
       "      <th>Email Workspace</th>\n",
       "      <th>Alias Workspace</th>\n",
       "      <th>Migrar?</th>\n",
       "      <th>Descrição do Chamado</th>\n",
       "      <th>Chamado</th>\n",
       "      <th>Efetivado?</th>\n",
       "      <th>Observações</th>\n",
       "    </tr>\n",
       "  </thead>\n",
       "  <tbody>\n",
       "    <tr>\n",
       "      <th>0</th>\n",
       "      <td>LUDMILLA SILVA ALMEIDA</td>\n",
       "      <td>LUDMILLA</td>\n",
       "      <td>SILVA ALMEIDA</td>\n",
       "      <td>GABINETE DOS DESEMBARGADORES</td>\n",
       "      <td>352096</td>\n",
       "      <td>GABINETE DES. EURÍPEDES LAMOUNIER</td>\n",
       "      <td>ASSESSOR JURÍDICO DE DESEMBARGADOR  DAJ/9</td>\n",
       "      <td></td>\n",
       "      <td>ludmilla.almeida@tjto.jus.br</td>\n",
       "      <td></td>\n",
       "      <td>Não</td>\n",
       "      <td>Criação de email</td>\n",
       "      <td>R54341</td>\n",
       "      <td>Não</td>\n",
       "      <td></td>\n",
       "    </tr>\n",
       "    <tr>\n",
       "      <th>1</th>\n",
       "      <td>LUDMILLA SILVA ALMEIDA</td>\n",
       "      <td>LUDMILLA</td>\n",
       "      <td>SILVA ALMEIDA</td>\n",
       "      <td>GABINETE DOS DESEMBARGADORES</td>\n",
       "      <td>352096</td>\n",
       "      <td>GABINETE DES. EURÍPEDES LAMOUNIER</td>\n",
       "      <td>ASSESSOR JURÍDICO DE DESEMBARGADOR  DAJ/9</td>\n",
       "      <td></td>\n",
       "      <td>ludmilla.almeida@tjto.jus.br</td>\n",
       "      <td></td>\n",
       "      <td>Não</td>\n",
       "      <td>Criação de email</td>\n",
       "      <td>R54341</td>\n",
       "      <td>Não</td>\n",
       "      <td></td>\n",
       "    </tr>\n",
       "    <tr>\n",
       "      <th>0</th>\n",
       "      <td>LUDMILLA SILVA ALMEIDA</td>\n",
       "      <td>LUDMILLA</td>\n",
       "      <td>SILVA ALMEIDA</td>\n",
       "      <td>GABINETE DOS DESEMBARGADORES</td>\n",
       "      <td>352096</td>\n",
       "      <td>GABINETE DES. EURÍPEDES LAMOUNIER</td>\n",
       "      <td>ASSESSOR JURÍDICO DE DESEMBARGADOR  DAJ/9</td>\n",
       "      <td></td>\n",
       "      <td>ludmilla.almeida@tjto.jus.br</td>\n",
       "      <td></td>\n",
       "      <td>Não</td>\n",
       "      <td>Criação de email</td>\n",
       "      <td>R54341</td>\n",
       "      <td>Não</td>\n",
       "      <td></td>\n",
       "    </tr>\n",
       "  </tbody>\n",
       "</table>\n",
       "</div>"
      ],
      "text/plain": [
       "            Nome Completo      Nome      Sobrenome  \\\n",
       "0  LUDMILLA SILVA ALMEIDA  LUDMILLA  SILVA ALMEIDA   \n",
       "1  LUDMILLA SILVA ALMEIDA  LUDMILLA  SILVA ALMEIDA   \n",
       "0  LUDMILLA SILVA ALMEIDA  LUDMILLA  SILVA ALMEIDA   \n",
       "\n",
       "                               UO  Matrícula  \\\n",
       "0   GABINETE DOS DESEMBARGADORES      352096   \n",
       "1   GABINETE DOS DESEMBARGADORES      352096   \n",
       "0   GABINETE DOS DESEMBARGADORES      352096   \n",
       "\n",
       "                              Lotação  \\\n",
       "0   GABINETE DES. EURÍPEDES LAMOUNIER   \n",
       "1   GABINETE DES. EURÍPEDES LAMOUNIER   \n",
       "0   GABINETE DES. EURÍPEDES LAMOUNIER   \n",
       "\n",
       "                                       Cargo Email zimbra  \\\n",
       "0  ASSESSOR JURÍDICO DE DESEMBARGADOR  DAJ/9                \n",
       "1  ASSESSOR JURÍDICO DE DESEMBARGADOR  DAJ/9                \n",
       "0  ASSESSOR JURÍDICO DE DESEMBARGADOR  DAJ/9                \n",
       "\n",
       "                Email Workspace Alias Workspace Migrar? Descrição do Chamado  \\\n",
       "0  ludmilla.almeida@tjto.jus.br                     Não     Criação de email   \n",
       "1  ludmilla.almeida@tjto.jus.br                     Não     Criação de email   \n",
       "0  ludmilla.almeida@tjto.jus.br                     Não     Criação de email   \n",
       "\n",
       "  Chamado Efetivado? Observações  \n",
       "0  R54341        Não              \n",
       "1  R54341        Não              \n",
       "0  R54341        Não              "
      ]
     },
     "execution_count": 127,
     "metadata": {},
     "output_type": "execute_result"
    }
   ],
   "source": [
    "chamadosregistro = pd.concat([chamadosregistro,ln])\n",
    "chamadosregistro.head()"
   ]
  },
  {
   "cell_type": "code",
   "execution_count": 128,
   "metadata": {},
   "outputs": [],
   "source": [
    "ln.to_clipboard(index=False,header=False)"
   ]
  },
  {
   "cell_type": "code",
   "execution_count": 129,
   "metadata": {},
   "outputs": [],
   "source": [
    "chamadosregistro.to_excel('chamados.xlsx',index=False)"
   ]
  },
  {
   "cell_type": "code",
   "execution_count": null,
   "metadata": {},
   "outputs": [],
   "source": []
  }
 ],
 "metadata": {
  "kernelspec": {
   "display_name": "Python 3.10.6 64-bit",
   "language": "python",
   "name": "python3"
  },
  "language_info": {
   "codemirror_mode": {
    "name": "ipython",
    "version": 3
   },
   "file_extension": ".py",
   "mimetype": "text/x-python",
   "name": "python",
   "nbconvert_exporter": "python",
   "pygments_lexer": "ipython3",
   "version": "3.10.6"
  },
  "orig_nbformat": 4,
  "vscode": {
   "interpreter": {
    "hash": "d141c0b8346b30825bb38d06bb406e61b271b44cb1f9e86ef6a30b8351d3ce90"
   }
  }
 },
 "nbformat": 4,
 "nbformat_minor": 2
}

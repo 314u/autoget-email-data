{
 "cells": [
  {
   "cell_type": "code",
   "execution_count": 163,
   "metadata": {},
   "outputs": [],
   "source": [
    "import numpy as np\n",
    "import pandas as pd\n",
    "import re\n",
    "from unidecode import unidecode"
   ]
  },
  {
   "cell_type": "code",
   "execution_count": 164,
   "metadata": {},
   "outputs": [
    {
     "data": {
      "text/html": [
       "<div>\n",
       "<style scoped>\n",
       "    .dataframe tbody tr th:only-of-type {\n",
       "        vertical-align: middle;\n",
       "    }\n",
       "\n",
       "    .dataframe tbody tr th {\n",
       "        vertical-align: top;\n",
       "    }\n",
       "\n",
       "    .dataframe thead th {\n",
       "        text-align: right;\n",
       "    }\n",
       "</style>\n",
       "<table border=\"1\" class=\"dataframe\">\n",
       "  <thead>\n",
       "    <tr style=\"text-align: right;\">\n",
       "      <th></th>\n",
       "      <th>Nome Completo</th>\n",
       "      <th>Nome</th>\n",
       "      <th>Sobrenome</th>\n",
       "      <th>UO</th>\n",
       "      <th>Matrícula</th>\n",
       "      <th>Lotação</th>\n",
       "      <th>Cargo</th>\n",
       "      <th>Email zimbra</th>\n",
       "      <th>Email Workspace</th>\n",
       "      <th>Alias Workspace</th>\n",
       "      <th>Migrar?</th>\n",
       "      <th>Descrição do Chamado</th>\n",
       "      <th>Chamado</th>\n",
       "      <th>Efetivado?</th>\n",
       "      <th>Observações</th>\n",
       "    </tr>\n",
       "  </thead>\n",
       "  <tbody>\n",
       "    <tr>\n",
       "      <th>0</th>\n",
       "      <td>LUDMILLA SILVA ALMEIDA</td>\n",
       "      <td>LUDMILLA</td>\n",
       "      <td>SILVA ALMEIDA</td>\n",
       "      <td>GABINETE DOS DESEMBARGADORES</td>\n",
       "      <td>352096</td>\n",
       "      <td>GABINETE DES. EURÍPEDES LAMOUNIER</td>\n",
       "      <td>ASSESSOR JURÍDICO DE DESEMBARGADOR  DAJ/9</td>\n",
       "      <td></td>\n",
       "      <td>ludmilla.almeida@tjto.jus.br</td>\n",
       "      <td></td>\n",
       "      <td>Não</td>\n",
       "      <td>Criação de email</td>\n",
       "      <td>R54341</td>\n",
       "      <td>Não</td>\n",
       "      <td></td>\n",
       "    </tr>\n",
       "    <tr>\n",
       "      <th>1</th>\n",
       "      <td>LUDMILLA SILVA ALMEIDA</td>\n",
       "      <td>LUDMILLA</td>\n",
       "      <td>SILVA ALMEIDA</td>\n",
       "      <td>GABINETE DOS DESEMBARGADORES</td>\n",
       "      <td>352096</td>\n",
       "      <td>GABINETE DES. EURÍPEDES LAMOUNIER</td>\n",
       "      <td>ASSESSOR JURÍDICO DE DESEMBARGADOR  DAJ/9</td>\n",
       "      <td></td>\n",
       "      <td>ludmilla.almeida@tjto.jus.br</td>\n",
       "      <td></td>\n",
       "      <td>Não</td>\n",
       "      <td>Criação de email</td>\n",
       "      <td>R54341</td>\n",
       "      <td>Não</td>\n",
       "      <td></td>\n",
       "    </tr>\n",
       "  </tbody>\n",
       "</table>\n",
       "</div>"
      ],
      "text/plain": [
       "            Nome Completo      Nome      Sobrenome  \\\n",
       "0  LUDMILLA SILVA ALMEIDA  LUDMILLA  SILVA ALMEIDA   \n",
       "1  LUDMILLA SILVA ALMEIDA  LUDMILLA  SILVA ALMEIDA   \n",
       "\n",
       "                               UO  Matrícula  \\\n",
       "0   GABINETE DOS DESEMBARGADORES      352096   \n",
       "1   GABINETE DOS DESEMBARGADORES      352096   \n",
       "\n",
       "                              Lotação  \\\n",
       "0   GABINETE DES. EURÍPEDES LAMOUNIER   \n",
       "1   GABINETE DES. EURÍPEDES LAMOUNIER   \n",
       "\n",
       "                                       Cargo Email zimbra  \\\n",
       "0  ASSESSOR JURÍDICO DE DESEMBARGADOR  DAJ/9                \n",
       "1  ASSESSOR JURÍDICO DE DESEMBARGADOR  DAJ/9                \n",
       "\n",
       "                Email Workspace Alias Workspace Migrar? Descrição do Chamado  \\\n",
       "0  ludmilla.almeida@tjto.jus.br                     Não     Criação de email   \n",
       "1  ludmilla.almeida@tjto.jus.br                     Não     Criação de email   \n",
       "\n",
       "  Chamado Efetivado? Observações  \n",
       "0  R54341        Não              \n",
       "1  R54341        Não              "
      ]
     },
     "execution_count": 164,
     "metadata": {},
     "output_type": "execute_result"
    }
   ],
   "source": [
    "userdataoriginal = pd.read_excel('userdata.xlsx')\n",
    "chamadosregistro = pd.read_excel('chamados.xlsx')\n",
    "emailsgoogle = pd.read_excel('emailsgoogle.xlsx')\n",
    "emzimbra = pd.read_excel('emailszimbra.xlsx')\n",
    "userdata = userdataoriginal\n",
    "userdata=userdata.fillna(' ')\n",
    "chamadosregistro.head(2)"
   ]
  },
  {
   "cell_type": "code",
   "execution_count": 165,
   "metadata": {},
   "outputs": [],
   "source": [
    "ncham = 'R54341'\n",
    "migrar = 'Não'\n",
    "descham = 'Criação de email'\n",
    "matricula = 353453\n",
    "efetivado = 'Não'\n",
    "observacoes = ' '"
   ]
  },
  {
   "cell_type": "code",
   "execution_count": 166,
   "metadata": {},
   "outputs": [
    {
     "data": {
      "text/html": [
       "<div>\n",
       "<style scoped>\n",
       "    .dataframe tbody tr th:only-of-type {\n",
       "        vertical-align: middle;\n",
       "    }\n",
       "\n",
       "    .dataframe tbody tr th {\n",
       "        vertical-align: top;\n",
       "    }\n",
       "\n",
       "    .dataframe thead th {\n",
       "        text-align: right;\n",
       "    }\n",
       "</style>\n",
       "<table border=\"1\" class=\"dataframe\">\n",
       "  <thead>\n",
       "    <tr style=\"text-align: right;\">\n",
       "      <th></th>\n",
       "      <th>matricula</th>\n",
       "      <th>nome</th>\n",
       "      <th>cargo</th>\n",
       "      <th>funcao</th>\n",
       "      <th>lotacao</th>\n",
       "      <th>situacao</th>\n",
       "    </tr>\n",
       "  </thead>\n",
       "  <tbody>\n",
       "    <tr>\n",
       "      <th>0</th>\n",
       "      <td>353453</td>\n",
       "      <td>ABELSON OLIVEIRA RIBEIRO FILHO</td>\n",
       "      <td></td>\n",
       "      <td>CHEFE DE DIVISÃO  DAJ/5</td>\n",
       "      <td>2º GRAU - PRESIDÊNCIA - DIRETORIA DO CENTRO DE...</td>\n",
       "      <td>NOMEADO EM COMISSÃO</td>\n",
       "    </tr>\n",
       "  </tbody>\n",
       "</table>\n",
       "</div>"
      ],
      "text/plain": [
       "   matricula                            nome cargo                   funcao  \\\n",
       "0     353453  ABELSON OLIVEIRA RIBEIRO FILHO        CHEFE DE DIVISÃO  DAJ/5   \n",
       "\n",
       "                                             lotacao             situacao  \n",
       "0  2º GRAU - PRESIDÊNCIA - DIRETORIA DO CENTRO DE...  NOMEADO EM COMISSÃO  "
      ]
     },
     "execution_count": 166,
     "metadata": {},
     "output_type": "execute_result"
    }
   ],
   "source": [
    "\n",
    "res = userdata[userdata['matricula']==matricula]\n",
    "res = res.reset_index()\n",
    "res = res.drop(['index'],axis=1)\n",
    "res\n"
   ]
  },
  {
   "cell_type": "code",
   "execution_count": 167,
   "metadata": {},
   "outputs": [],
   "source": [
    "nome = res['nome'][0]\n",
    "nome = nome.split()\n",
    "sobrenome = nome[1:]\n",
    "sobrenome =  ' '.join(nome[1:])"
   ]
  },
  {
   "cell_type": "code",
   "execution_count": 188,
   "metadata": {},
   "outputs": [
    {
     "name": "stdout",
     "output_type": "stream",
     "text": [
      "email já existe\n",
      "  primeironome             ultimo nome                      email\n",
      "0      Abelson  Oliveira Ribeiro Filho  abelson.filho@tjto.jus.br\n"
     ]
    }
   ],
   "source": [
    "empdr = nome[0]+'.'+nome[-1]+'@tjto.jus.br'\n",
    "empdr = empdr.lower()\n",
    "empdr = unidecode(empdr)\n",
    "\n",
    "if empdr in emailsgoogle['email'].values:\n",
    "   print('email já existe')\n",
    "   emcds = emailsgoogle[emailsgoogle['email']==empdr]\n",
    "   print(emcds)"
   ]
  },
  {
   "cell_type": "code",
   "execution_count": 169,
   "metadata": {},
   "outputs": [
    {
     "data": {
      "text/plain": [
       "' PRESIDÊNCIA '"
      ]
     },
     "execution_count": 169,
     "metadata": {},
     "output_type": "execute_result"
    }
   ],
   "source": [
    "lotacao = res['lotacao'][0]\n",
    "lotacao = lotacao.split('-')\n",
    "lotacao[-1]\n",
    "lotacao[-2]"
   ]
  },
  {
   "cell_type": "code",
   "execution_count": 183,
   "metadata": {},
   "outputs": [
    {
     "data": {
      "text/plain": [
       "'CHEFE DE DIVISÃO   '"
      ]
     },
     "execution_count": 183,
     "metadata": {},
     "output_type": "execute_result"
    }
   ],
   "source": [
    "cargo = ' '\n",
    "funcao = ' '\n",
    "if res['cargo'][0]!=' ': cargo =  res['cargo'][0]\n",
    "if res['funcao'][0]!=' ': funcao = res['funcao'][0]\n",
    "if cargo==' ' : \n",
    "    cargo = funcao\n",
    "    funcao = ' '\n",
    "if(cargo!=' ' and funcao!=' '): cargo = cargo+'-'+funcao\n",
    "cargo = re.sub('DAJ/.',' ',cargo)\n",
    "cargo\n"
   ]
  },
  {
   "cell_type": "code",
   "execution_count": null,
   "metadata": {},
   "outputs": [
    {
     "data": {
      "text/plain": [
       "' '"
      ]
     },
     "execution_count": 125,
     "metadata": {},
     "output_type": "execute_result"
    }
   ],
   "source": [
    "emzimbrares = ' '\n",
    "desc = emzimbra['Descrição']\n",
    "for i in range(len(desc)):\n",
    "    if type(desc[i])==str:\n",
    "        if res['nome'][0].lower() in desc[i].lower():\n",
    "            emzimbrares = emzimbra.iloc[i]\n",
    "emzimbrares"
   ]
  },
  {
   "cell_type": "code",
   "execution_count": null,
   "metadata": {},
   "outputs": [
    {
     "data": {
      "text/html": [
       "<div>\n",
       "<style scoped>\n",
       "    .dataframe tbody tr th:only-of-type {\n",
       "        vertical-align: middle;\n",
       "    }\n",
       "\n",
       "    .dataframe tbody tr th {\n",
       "        vertical-align: top;\n",
       "    }\n",
       "\n",
       "    .dataframe thead th {\n",
       "        text-align: right;\n",
       "    }\n",
       "</style>\n",
       "<table border=\"1\" class=\"dataframe\">\n",
       "  <thead>\n",
       "    <tr style=\"text-align: right;\">\n",
       "      <th></th>\n",
       "      <th>Nome Completo</th>\n",
       "      <th>Nome</th>\n",
       "      <th>Sobrenome</th>\n",
       "      <th>UO</th>\n",
       "      <th>Matrícula</th>\n",
       "      <th>Lotação</th>\n",
       "      <th>Cargo</th>\n",
       "      <th>Email zimbra</th>\n",
       "      <th>Email Workspace</th>\n",
       "      <th>Alias Workspace</th>\n",
       "      <th>Migrar?</th>\n",
       "      <th>Descrição do Chamado</th>\n",
       "      <th>Chamado</th>\n",
       "      <th>Efetivado?</th>\n",
       "      <th>Observações</th>\n",
       "    </tr>\n",
       "  </thead>\n",
       "  <tbody>\n",
       "    <tr>\n",
       "      <th>0</th>\n",
       "      <td>LUDMILLA SILVA ALMEIDA</td>\n",
       "      <td>LUDMILLA</td>\n",
       "      <td>SILVA ALMEIDA</td>\n",
       "      <td>GABINETE DOS DESEMBARGADORES</td>\n",
       "      <td>352096</td>\n",
       "      <td>GABINETE DES. EURÍPEDES LAMOUNIER</td>\n",
       "      <td>ASSESSOR JURÍDICO DE DESEMBARGADOR  DAJ/9</td>\n",
       "      <td></td>\n",
       "      <td>ludmilla.almeida@tjto.jus.br</td>\n",
       "      <td></td>\n",
       "      <td>Não</td>\n",
       "      <td>Criação de email</td>\n",
       "      <td>R54341</td>\n",
       "      <td>Não</td>\n",
       "      <td></td>\n",
       "    </tr>\n",
       "  </tbody>\n",
       "</table>\n",
       "</div>"
      ],
      "text/plain": [
       "            Nome Completo      Nome      Sobrenome  \\\n",
       "0  LUDMILLA SILVA ALMEIDA  LUDMILLA  SILVA ALMEIDA   \n",
       "\n",
       "                               UO  Matrícula  \\\n",
       "0   GABINETE DOS DESEMBARGADORES      352096   \n",
       "\n",
       "                              Lotação  \\\n",
       "0   GABINETE DES. EURÍPEDES LAMOUNIER   \n",
       "\n",
       "                                       Cargo Email zimbra  \\\n",
       "0  ASSESSOR JURÍDICO DE DESEMBARGADOR  DAJ/9                \n",
       "\n",
       "                Email Workspace Alias Workspace Migrar? Descrição do Chamado  \\\n",
       "0  ludmilla.almeida@tjto.jus.br                     Não     Criação de email   \n",
       "\n",
       "  Chamado Efetivado? Observações  \n",
       "0  R54341        Não              "
      ]
     },
     "execution_count": 126,
     "metadata": {},
     "output_type": "execute_result"
    }
   ],
   "source": [
    "ln = {\n",
    "    'Nome Completo':res['nome'],\n",
    "    'Nome':nome[0],\n",
    "    'Sobrenome':sobrenome,\n",
    "    'UO':lotacao[-2],\n",
    "    'Matrícula':res['matricula'],\n",
    "    'Lotação':lotacao[-1],\n",
    "    'Cargo':cargo,\n",
    "    'Email zimbra':emzimbrares[0],\n",
    "    'Email Workspace':empdr,\n",
    "    'Alias Workspace':emzimbrares[0],\n",
    "    'Migrar?':migrar,\n",
    "    'Descrição do Chamado':descham,\n",
    "    'Chamado':ncham,\n",
    "    'Efetivado?':efetivado,\n",
    "    'Observações':observacoes}\n",
    "ln = pd.DataFrame(ln)\n",
    "ln\n"
   ]
  },
  {
   "cell_type": "code",
   "execution_count": null,
   "metadata": {},
   "outputs": [
    {
     "data": {
      "text/html": [
       "<div>\n",
       "<style scoped>\n",
       "    .dataframe tbody tr th:only-of-type {\n",
       "        vertical-align: middle;\n",
       "    }\n",
       "\n",
       "    .dataframe tbody tr th {\n",
       "        vertical-align: top;\n",
       "    }\n",
       "\n",
       "    .dataframe thead th {\n",
       "        text-align: right;\n",
       "    }\n",
       "</style>\n",
       "<table border=\"1\" class=\"dataframe\">\n",
       "  <thead>\n",
       "    <tr style=\"text-align: right;\">\n",
       "      <th></th>\n",
       "      <th>Nome Completo</th>\n",
       "      <th>Nome</th>\n",
       "      <th>Sobrenome</th>\n",
       "      <th>UO</th>\n",
       "      <th>Matrícula</th>\n",
       "      <th>Lotação</th>\n",
       "      <th>Cargo</th>\n",
       "      <th>Email zimbra</th>\n",
       "      <th>Email Workspace</th>\n",
       "      <th>Alias Workspace</th>\n",
       "      <th>Migrar?</th>\n",
       "      <th>Descrição do Chamado</th>\n",
       "      <th>Chamado</th>\n",
       "      <th>Efetivado?</th>\n",
       "      <th>Observações</th>\n",
       "    </tr>\n",
       "  </thead>\n",
       "  <tbody>\n",
       "    <tr>\n",
       "      <th>0</th>\n",
       "      <td>LUDMILLA SILVA ALMEIDA</td>\n",
       "      <td>LUDMILLA</td>\n",
       "      <td>SILVA ALMEIDA</td>\n",
       "      <td>GABINETE DOS DESEMBARGADORES</td>\n",
       "      <td>352096</td>\n",
       "      <td>GABINETE DES. EURÍPEDES LAMOUNIER</td>\n",
       "      <td>ASSESSOR JURÍDICO DE DESEMBARGADOR  DAJ/9</td>\n",
       "      <td></td>\n",
       "      <td>ludmilla.almeida@tjto.jus.br</td>\n",
       "      <td></td>\n",
       "      <td>Não</td>\n",
       "      <td>Criação de email</td>\n",
       "      <td>R54341</td>\n",
       "      <td>Não</td>\n",
       "      <td></td>\n",
       "    </tr>\n",
       "    <tr>\n",
       "      <th>1</th>\n",
       "      <td>LUDMILLA SILVA ALMEIDA</td>\n",
       "      <td>LUDMILLA</td>\n",
       "      <td>SILVA ALMEIDA</td>\n",
       "      <td>GABINETE DOS DESEMBARGADORES</td>\n",
       "      <td>352096</td>\n",
       "      <td>GABINETE DES. EURÍPEDES LAMOUNIER</td>\n",
       "      <td>ASSESSOR JURÍDICO DE DESEMBARGADOR  DAJ/9</td>\n",
       "      <td></td>\n",
       "      <td>ludmilla.almeida@tjto.jus.br</td>\n",
       "      <td></td>\n",
       "      <td>Não</td>\n",
       "      <td>Criação de email</td>\n",
       "      <td>R54341</td>\n",
       "      <td>Não</td>\n",
       "      <td></td>\n",
       "    </tr>\n",
       "    <tr>\n",
       "      <th>0</th>\n",
       "      <td>LUDMILLA SILVA ALMEIDA</td>\n",
       "      <td>LUDMILLA</td>\n",
       "      <td>SILVA ALMEIDA</td>\n",
       "      <td>GABINETE DOS DESEMBARGADORES</td>\n",
       "      <td>352096</td>\n",
       "      <td>GABINETE DES. EURÍPEDES LAMOUNIER</td>\n",
       "      <td>ASSESSOR JURÍDICO DE DESEMBARGADOR  DAJ/9</td>\n",
       "      <td></td>\n",
       "      <td>ludmilla.almeida@tjto.jus.br</td>\n",
       "      <td></td>\n",
       "      <td>Não</td>\n",
       "      <td>Criação de email</td>\n",
       "      <td>R54341</td>\n",
       "      <td>Não</td>\n",
       "      <td></td>\n",
       "    </tr>\n",
       "  </tbody>\n",
       "</table>\n",
       "</div>"
      ],
      "text/plain": [
       "            Nome Completo      Nome      Sobrenome  \\\n",
       "0  LUDMILLA SILVA ALMEIDA  LUDMILLA  SILVA ALMEIDA   \n",
       "1  LUDMILLA SILVA ALMEIDA  LUDMILLA  SILVA ALMEIDA   \n",
       "0  LUDMILLA SILVA ALMEIDA  LUDMILLA  SILVA ALMEIDA   \n",
       "\n",
       "                               UO  Matrícula  \\\n",
       "0   GABINETE DOS DESEMBARGADORES      352096   \n",
       "1   GABINETE DOS DESEMBARGADORES      352096   \n",
       "0   GABINETE DOS DESEMBARGADORES      352096   \n",
       "\n",
       "                              Lotação  \\\n",
       "0   GABINETE DES. EURÍPEDES LAMOUNIER   \n",
       "1   GABINETE DES. EURÍPEDES LAMOUNIER   \n",
       "0   GABINETE DES. EURÍPEDES LAMOUNIER   \n",
       "\n",
       "                                       Cargo Email zimbra  \\\n",
       "0  ASSESSOR JURÍDICO DE DESEMBARGADOR  DAJ/9                \n",
       "1  ASSESSOR JURÍDICO DE DESEMBARGADOR  DAJ/9                \n",
       "0  ASSESSOR JURÍDICO DE DESEMBARGADOR  DAJ/9                \n",
       "\n",
       "                Email Workspace Alias Workspace Migrar? Descrição do Chamado  \\\n",
       "0  ludmilla.almeida@tjto.jus.br                     Não     Criação de email   \n",
       "1  ludmilla.almeida@tjto.jus.br                     Não     Criação de email   \n",
       "0  ludmilla.almeida@tjto.jus.br                     Não     Criação de email   \n",
       "\n",
       "  Chamado Efetivado? Observações  \n",
       "0  R54341        Não              \n",
       "1  R54341        Não              \n",
       "0  R54341        Não              "
      ]
     },
     "execution_count": 127,
     "metadata": {},
     "output_type": "execute_result"
    }
   ],
   "source": [
    "chamadosregistro = pd.concat([chamadosregistro,ln])\n",
    "chamadosregistro.head()"
   ]
  },
  {
   "cell_type": "code",
   "execution_count": null,
   "metadata": {},
   "outputs": [],
   "source": [
    "ln.to_clipboard(index=False,header=False)"
   ]
  },
  {
   "cell_type": "code",
   "execution_count": null,
   "metadata": {},
   "outputs": [],
   "source": [
    "chamadosregistro.to_excel('chamados.xlsx',index=False)"
   ]
  },
  {
   "cell_type": "code",
   "execution_count": null,
   "metadata": {},
   "outputs": [],
   "source": []
  }
 ],
 "metadata": {
  "kernelspec": {
   "display_name": "Python 3.10.6 64-bit",
   "language": "python",
   "name": "python3"
  },
  "language_info": {
   "codemirror_mode": {
    "name": "ipython",
    "version": 3
   },
   "file_extension": ".py",
   "mimetype": "text/x-python",
   "name": "python",
   "nbconvert_exporter": "python",
   "pygments_lexer": "ipython3",
   "version": "3.10.6"
  },
  "orig_nbformat": 4,
  "vscode": {
   "interpreter": {
    "hash": "d141c0b8346b30825bb38d06bb406e61b271b44cb1f9e86ef6a30b8351d3ce90"
   }
  }
 },
 "nbformat": 4,
 "nbformat_minor": 2
}
